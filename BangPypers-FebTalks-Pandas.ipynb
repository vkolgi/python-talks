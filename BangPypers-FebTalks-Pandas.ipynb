{
 "metadata": {
  "name": "",
  "signature": "sha256:caaa6d6d818fabb9cbb0c13ba4741ee2c32146ad9a8d490c9283e4fea2f26210"
 },
 "nbformat": 3,
 "nbformat_minor": 0,
 "worksheets": [
  {
   "cells": [
    {
     "cell_type": "heading",
     "level": 1,
     "metadata": {},
     "source": [
      "Introduction to Pandas"
     ]
    },
    {
     "cell_type": "heading",
     "level": 2,
     "metadata": {},
     "source": [
      "1. How to Install Pandas"
     ]
    },
    {
     "cell_type": "heading",
     "level": 4,
     "metadata": {},
     "source": [
      "easy_install pandas"
     ]
    },
    {
     "cell_type": "heading",
     "level": 2,
     "metadata": {},
     "source": [
      "2. Import Pandas to your program"
     ]
    },
    {
     "cell_type": "code",
     "collapsed": false,
     "input": [
      "import pandas as pd"
     ],
     "language": "python",
     "metadata": {},
     "outputs": [],
     "prompt_number": 3
    },
    {
     "cell_type": "heading",
     "level": 2,
     "metadata": {},
     "source": [
      "3. Two important data types in pandas"
     ]
    },
    {
     "cell_type": "heading",
     "level": 4,
     "metadata": {},
     "source": [
      "1. Series <br><br> 2. DataFrame"
     ]
    },
    {
     "cell_type": "heading",
     "level": 3,
     "metadata": {},
     "source": [
      "1. Series"
     ]
    },
    {
     "cell_type": "code",
     "collapsed": false,
     "input": [
      "series = pd.Series([value for value in range(1,5)], list('abcd'))"
     ],
     "language": "python",
     "metadata": {},
     "outputs": [],
     "prompt_number": 9
    },
    {
     "cell_type": "code",
     "collapsed": false,
     "input": [
      "series"
     ],
     "language": "python",
     "metadata": {},
     "outputs": [
      {
       "metadata": {},
       "output_type": "pyout",
       "prompt_number": 8,
       "text": [
        "a    1\n",
        "b    2\n",
        "c    3\n",
        "d    4\n",
        "dtype: int64"
       ]
      }
     ],
     "prompt_number": 8
    },
    {
     "cell_type": "heading",
     "level": 3,
     "metadata": {},
     "source": [
      "2. DataFrame"
     ]
    },
    {
     "cell_type": "code",
     "collapsed": false,
     "input": [
      "df = pd.DataFrame({'country':['India', 'Pakistan', 'Japan'], 'life_ex_rate':[60, 60, 80]})"
     ],
     "language": "python",
     "metadata": {},
     "outputs": [],
     "prompt_number": 10
    },
    {
     "cell_type": "code",
     "collapsed": false,
     "input": [
      "df"
     ],
     "language": "python",
     "metadata": {},
     "outputs": [
      {
       "html": [
        "<div style=\"max-height:1000px;max-width:1500px;overflow:auto;\">\n",
        "<table border=\"1\" class=\"dataframe\">\n",
        "  <thead>\n",
        "    <tr style=\"text-align: right;\">\n",
        "      <th></th>\n",
        "      <th>country</th>\n",
        "      <th>life_ex_rate</th>\n",
        "    </tr>\n",
        "  </thead>\n",
        "  <tbody>\n",
        "    <tr>\n",
        "      <th>0</th>\n",
        "      <td>    India</td>\n",
        "      <td> 60</td>\n",
        "    </tr>\n",
        "    <tr>\n",
        "      <th>1</th>\n",
        "      <td> Pakistan</td>\n",
        "      <td> 60</td>\n",
        "    </tr>\n",
        "    <tr>\n",
        "      <th>2</th>\n",
        "      <td>    Japan</td>\n",
        "      <td> 80</td>\n",
        "    </tr>\n",
        "  </tbody>\n",
        "</table>\n",
        "</div>"
       ],
       "metadata": {},
       "output_type": "pyout",
       "prompt_number": 11,
       "text": [
        "    country  life_ex_rate\n",
        "0     India            60\n",
        "1  Pakistan            60\n",
        "2     Japan            80"
       ]
      }
     ],
     "prompt_number": 11
    },
    {
     "cell_type": "heading",
     "level": 4,
     "metadata": {},
     "source": [
      "2.1 Add a column"
     ]
    },
    {
     "cell_type": "code",
     "collapsed": false,
     "input": [
      "df['continent'] = ['Asia', 'Asia', 'Asia']"
     ],
     "language": "python",
     "metadata": {},
     "outputs": [],
     "prompt_number": 12
    },
    {
     "cell_type": "heading",
     "level": 2,
     "metadata": {},
     "source": [
      "4. Reading CSV data"
     ]
    },
    {
     "cell_type": "code",
     "collapsed": false,
     "input": [
      "df = pd.read_csv(\"Camera.csv\", sep=\";\")"
     ],
     "language": "python",
     "metadata": {},
     "outputs": [],
     "prompt_number": 16
    },
    {
     "cell_type": "heading",
     "level": 3,
     "metadata": {},
     "source": [
      "describe function displays useful information about data frame."
     ]
    },
    {
     "cell_type": "code",
     "collapsed": false,
     "input": [
      "df.describe()"
     ],
     "language": "python",
     "metadata": {},
     "outputs": [
      {
       "html": [
        "<div style=\"max-height:1000px;max-width:1500px;overflow:auto;\">\n",
        "<table border=\"1\" class=\"dataframe\">\n",
        "  <thead>\n",
        "    <tr style=\"text-align: right;\">\n",
        "      <th></th>\n",
        "      <th>Model</th>\n",
        "      <th>Release date</th>\n",
        "      <th>Max resolution</th>\n",
        "      <th>Low resolution</th>\n",
        "      <th>Effective pixels</th>\n",
        "      <th>Zoom wide (W)</th>\n",
        "      <th>Zoom tele (T)</th>\n",
        "      <th>Normal focus range</th>\n",
        "      <th>Macro focus range</th>\n",
        "      <th>Storage included</th>\n",
        "      <th>Weight (inc. batteries)</th>\n",
        "      <th>Dimensions</th>\n",
        "      <th>Price</th>\n",
        "    </tr>\n",
        "  </thead>\n",
        "  <tbody>\n",
        "    <tr>\n",
        "      <th>count</th>\n",
        "      <td>         1039</td>\n",
        "      <td> 1039</td>\n",
        "      <td>   1039</td>\n",
        "      <td>   1039</td>\n",
        "      <td> 1039</td>\n",
        "      <td> 1039</td>\n",
        "      <td>  1039</td>\n",
        "      <td> 1039</td>\n",
        "      <td> 1038</td>\n",
        "      <td> 1037</td>\n",
        "      <td>  1037</td>\n",
        "      <td> 1037</td>\n",
        "      <td>  1039</td>\n",
        "    </tr>\n",
        "    <tr>\n",
        "      <th>unique</th>\n",
        "      <td>         1039</td>\n",
        "      <td>   15</td>\n",
        "      <td>    100</td>\n",
        "      <td>     71</td>\n",
        "      <td>   17</td>\n",
        "      <td>   26</td>\n",
        "      <td>   101</td>\n",
        "      <td>   33</td>\n",
        "      <td>   30</td>\n",
        "      <td>   45</td>\n",
        "      <td>   238</td>\n",
        "      <td>  102</td>\n",
        "      <td>    44</td>\n",
        "    </tr>\n",
        "    <tr>\n",
        "      <th>top</th>\n",
        "      <td> Pentax K100D</td>\n",
        "      <td> 2007</td>\n",
        "      <td> 3072.0</td>\n",
        "      <td> 2048.0</td>\n",
        "      <td>  3.0</td>\n",
        "      <td> 38.0</td>\n",
        "      <td> 114.0</td>\n",
        "      <td> 50.0</td>\n",
        "      <td> 10.0</td>\n",
        "      <td> 16.0</td>\n",
        "      <td> 320.0</td>\n",
        "      <td> 90.0</td>\n",
        "      <td> 149.0</td>\n",
        "    </tr>\n",
        "    <tr>\n",
        "      <th>freq</th>\n",
        "      <td>            1</td>\n",
        "      <td>  163</td>\n",
        "      <td>    108</td>\n",
        "      <td>    187</td>\n",
        "      <td>  197</td>\n",
        "      <td>  259</td>\n",
        "      <td>   163</td>\n",
        "      <td>  286</td>\n",
        "      <td>  200</td>\n",
        "      <td>  279</td>\n",
        "      <td>    34</td>\n",
        "      <td>   48</td>\n",
        "      <td>   112</td>\n",
        "    </tr>\n",
        "  </tbody>\n",
        "</table>\n",
        "</div>"
       ],
       "metadata": {},
       "output_type": "pyout",
       "prompt_number": 19,
       "text": [
        "               Model Release date Max resolution Low resolution  \\\n",
        "count           1039         1039           1039           1039   \n",
        "unique          1039           15            100             71   \n",
        "top     Pentax K100D         2007         3072.0         2048.0   \n",
        "freq               1          163            108            187   \n",
        "\n",
        "       Effective pixels Zoom wide (W) Zoom tele (T) Normal focus range  \\\n",
        "count              1039          1039          1039               1039   \n",
        "unique               17            26           101                 33   \n",
        "top                 3.0          38.0         114.0               50.0   \n",
        "freq                197           259           163                286   \n",
        "\n",
        "       Macro focus range Storage included Weight (inc. batteries) Dimensions  \\\n",
        "count               1038             1037                    1037       1037   \n",
        "unique                30               45                     238        102   \n",
        "top                 10.0             16.0                   320.0       90.0   \n",
        "freq                 200              279                      34         48   \n",
        "\n",
        "        Price  \n",
        "count    1039  \n",
        "unique     44  \n",
        "top     149.0  \n",
        "freq      112  "
       ]
      }
     ],
     "prompt_number": 19
    },
    {
     "cell_type": "heading",
     "level": 3,
     "metadata": {},
     "source": [
      "Create new column out of the existing one"
     ]
    },
    {
     "cell_type": "code",
     "collapsed": false,
     "input": [
      "df['Maker'] = [value.split(' ')[0] for value in df['Model']]"
     ],
     "language": "python",
     "metadata": {},
     "outputs": [],
     "prompt_number": 24
    },
    {
     "cell_type": "code",
     "collapsed": false,
     "input": [
      "df.head()"
     ],
     "language": "python",
     "metadata": {},
     "outputs": [
      {
       "html": [
        "<div style=\"max-height:1000px;max-width:1500px;overflow:auto;\">\n",
        "<table border=\"1\" class=\"dataframe\">\n",
        "  <thead>\n",
        "    <tr style=\"text-align: right;\">\n",
        "      <th></th>\n",
        "      <th>Model</th>\n",
        "      <th>Release date</th>\n",
        "      <th>Max resolution</th>\n",
        "      <th>Low resolution</th>\n",
        "      <th>Effective pixels</th>\n",
        "      <th>Zoom wide (W)</th>\n",
        "      <th>Zoom tele (T)</th>\n",
        "      <th>Normal focus range</th>\n",
        "      <th>Macro focus range</th>\n",
        "      <th>Storage included</th>\n",
        "      <th>Weight (inc. batteries)</th>\n",
        "      <th>Dimensions</th>\n",
        "      <th>Price</th>\n",
        "      <th>Maker</th>\n",
        "    </tr>\n",
        "  </thead>\n",
        "  <tbody>\n",
        "    <tr>\n",
        "      <th>0</th>\n",
        "      <td>           STRING</td>\n",
        "      <td> DOUBLE</td>\n",
        "      <td> DOUBLE</td>\n",
        "      <td> DOUBLE</td>\n",
        "      <td> DOUBLE</td>\n",
        "      <td> DOUBLE</td>\n",
        "      <td> DOUBLE</td>\n",
        "      <td> DOUBLE</td>\n",
        "      <td> DOUBLE</td>\n",
        "      <td> DOUBLE</td>\n",
        "      <td> DOUBLE</td>\n",
        "      <td> DOUBLE</td>\n",
        "      <td> DOUBLE</td>\n",
        "      <td> STRING</td>\n",
        "    </tr>\n",
        "    <tr>\n",
        "      <th>1</th>\n",
        "      <td> Agfa ePhoto 1280</td>\n",
        "      <td>   1997</td>\n",
        "      <td> 1024.0</td>\n",
        "      <td>  640.0</td>\n",
        "      <td>    0.0</td>\n",
        "      <td>   38.0</td>\n",
        "      <td>  114.0</td>\n",
        "      <td>   70.0</td>\n",
        "      <td>   40.0</td>\n",
        "      <td>    4.0</td>\n",
        "      <td>  420.0</td>\n",
        "      <td>   95.0</td>\n",
        "      <td>  179.0</td>\n",
        "      <td>   Agfa</td>\n",
        "    </tr>\n",
        "    <tr>\n",
        "      <th>2</th>\n",
        "      <td> Agfa ePhoto 1680</td>\n",
        "      <td>   1998</td>\n",
        "      <td> 1280.0</td>\n",
        "      <td>  640.0</td>\n",
        "      <td>    1.0</td>\n",
        "      <td>   38.0</td>\n",
        "      <td>  114.0</td>\n",
        "      <td>   50.0</td>\n",
        "      <td>    0.0</td>\n",
        "      <td>    4.0</td>\n",
        "      <td>  420.0</td>\n",
        "      <td>  158.0</td>\n",
        "      <td>  179.0</td>\n",
        "      <td>   Agfa</td>\n",
        "    </tr>\n",
        "    <tr>\n",
        "      <th>3</th>\n",
        "      <td> Agfa ePhoto CL18</td>\n",
        "      <td>   2000</td>\n",
        "      <td>  640.0</td>\n",
        "      <td>    0.0</td>\n",
        "      <td>    0.0</td>\n",
        "      <td>   45.0</td>\n",
        "      <td>   45.0</td>\n",
        "      <td>    0.0</td>\n",
        "      <td>    0.0</td>\n",
        "      <td>    2.0</td>\n",
        "      <td>    0.0</td>\n",
        "      <td>    0.0</td>\n",
        "      <td>  179.0</td>\n",
        "      <td>   Agfa</td>\n",
        "    </tr>\n",
        "    <tr>\n",
        "      <th>4</th>\n",
        "      <td> Agfa ePhoto CL30</td>\n",
        "      <td>   1999</td>\n",
        "      <td> 1152.0</td>\n",
        "      <td>  640.0</td>\n",
        "      <td>    0.0</td>\n",
        "      <td>   35.0</td>\n",
        "      <td>   35.0</td>\n",
        "      <td>    0.0</td>\n",
        "      <td>    0.0</td>\n",
        "      <td>    4.0</td>\n",
        "      <td>    0.0</td>\n",
        "      <td>    0.0</td>\n",
        "      <td>  269.0</td>\n",
        "      <td>   Agfa</td>\n",
        "    </tr>\n",
        "  </tbody>\n",
        "</table>\n",
        "</div>"
       ],
       "metadata": {},
       "output_type": "pyout",
       "prompt_number": 25,
       "text": [
        "              Model Release date Max resolution Low resolution  \\\n",
        "0            STRING       DOUBLE         DOUBLE         DOUBLE   \n",
        "1  Agfa ePhoto 1280         1997         1024.0          640.0   \n",
        "2  Agfa ePhoto 1680         1998         1280.0          640.0   \n",
        "3  Agfa ePhoto CL18         2000          640.0            0.0   \n",
        "4  Agfa ePhoto CL30         1999         1152.0          640.0   \n",
        "\n",
        "  Effective pixels Zoom wide (W) Zoom tele (T) Normal focus range  \\\n",
        "0           DOUBLE        DOUBLE        DOUBLE             DOUBLE   \n",
        "1              0.0          38.0         114.0               70.0   \n",
        "2              1.0          38.0         114.0               50.0   \n",
        "3              0.0          45.0          45.0                0.0   \n",
        "4              0.0          35.0          35.0                0.0   \n",
        "\n",
        "  Macro focus range Storage included Weight (inc. batteries) Dimensions  \\\n",
        "0            DOUBLE           DOUBLE                  DOUBLE     DOUBLE   \n",
        "1              40.0              4.0                   420.0       95.0   \n",
        "2               0.0              4.0                   420.0      158.0   \n",
        "3               0.0              2.0                     0.0        0.0   \n",
        "4               0.0              4.0                     0.0        0.0   \n",
        "\n",
        "    Price   Maker  \n",
        "0  DOUBLE  STRING  \n",
        "1   179.0    Agfa  \n",
        "2   179.0    Agfa  \n",
        "3   179.0    Agfa  \n",
        "4   269.0    Agfa  "
       ]
      }
     ],
     "prompt_number": 25
    },
    {
     "cell_type": "heading",
     "level": 3,
     "metadata": {},
     "source": [
      "List Slicing applied to the Panda Columns"
     ]
    },
    {
     "cell_type": "code",
     "collapsed": false,
     "input": [
      "df['Maker'][1:5]"
     ],
     "language": "python",
     "metadata": {},
     "outputs": [
      {
       "metadata": {},
       "output_type": "pyout",
       "prompt_number": 27,
       "text": [
        "1    Agfa\n",
        "2    Agfa\n",
        "3    Agfa\n",
        "4    Agfa\n",
        "Name: Maker, dtype: object"
       ]
      }
     ],
     "prompt_number": 27
    },
    {
     "cell_type": "code",
     "collapsed": false,
     "input": [
      "df['Release date'][::-1].head()"
     ],
     "language": "python",
     "metadata": {},
     "outputs": [
      {
       "metadata": {},
       "output_type": "pyout",
       "prompt_number": 29,
       "text": [
        "1038    2002\n",
        "1037    2001\n",
        "1036    2001\n",
        "1035    2000\n",
        "1034    2001\n",
        "Name: Release date, dtype: object"
       ]
      }
     ],
     "prompt_number": 29
    },
    {
     "cell_type": "heading",
     "level": 3,
     "metadata": {},
     "source": [
      "Print or Access multiple columns"
     ]
    },
    {
     "cell_type": "code",
     "collapsed": false,
     "input": [
      "df[['Model', 'Price']].head()"
     ],
     "language": "python",
     "metadata": {},
     "outputs": [
      {
       "html": [
        "<div style=\"max-height:1000px;max-width:1500px;overflow:auto;\">\n",
        "<table border=\"1\" class=\"dataframe\">\n",
        "  <thead>\n",
        "    <tr style=\"text-align: right;\">\n",
        "      <th></th>\n",
        "      <th>Model</th>\n",
        "      <th>Price</th>\n",
        "    </tr>\n",
        "  </thead>\n",
        "  <tbody>\n",
        "    <tr>\n",
        "      <th>0</th>\n",
        "      <td>           STRING</td>\n",
        "      <td> DOUBLE</td>\n",
        "    </tr>\n",
        "    <tr>\n",
        "      <th>1</th>\n",
        "      <td> Agfa ePhoto 1280</td>\n",
        "      <td>  179.0</td>\n",
        "    </tr>\n",
        "    <tr>\n",
        "      <th>2</th>\n",
        "      <td> Agfa ePhoto 1680</td>\n",
        "      <td>  179.0</td>\n",
        "    </tr>\n",
        "    <tr>\n",
        "      <th>3</th>\n",
        "      <td> Agfa ePhoto CL18</td>\n",
        "      <td>  179.0</td>\n",
        "    </tr>\n",
        "    <tr>\n",
        "      <th>4</th>\n",
        "      <td> Agfa ePhoto CL30</td>\n",
        "      <td>  269.0</td>\n",
        "    </tr>\n",
        "  </tbody>\n",
        "</table>\n",
        "</div>"
       ],
       "metadata": {},
       "output_type": "pyout",
       "prompt_number": 31,
       "text": [
        "              Model   Price\n",
        "0            STRING  DOUBLE\n",
        "1  Agfa ePhoto 1280   179.0\n",
        "2  Agfa ePhoto 1680   179.0\n",
        "3  Agfa ePhoto CL18   179.0\n",
        "4  Agfa ePhoto CL30   269.0"
       ]
      }
     ],
     "prompt_number": 31
    },
    {
     "cell_type": "heading",
     "level": 3,
     "metadata": {},
     "source": [
      "Apply Condition to column"
     ]
    },
    {
     "cell_type": "heading",
     "level": 4,
     "metadata": {},
     "source": [
      "Filter by Sony"
     ]
    },
    {
     "cell_type": "code",
     "collapsed": false,
     "input": [
      "df[df['Maker'] == 'Sony'].head()"
     ],
     "language": "python",
     "metadata": {},
     "outputs": [
      {
       "html": [
        "<div style=\"max-height:1000px;max-width:1500px;overflow:auto;\">\n",
        "<table border=\"1\" class=\"dataframe\">\n",
        "  <thead>\n",
        "    <tr style=\"text-align: right;\">\n",
        "      <th></th>\n",
        "      <th>Model</th>\n",
        "      <th>Release date</th>\n",
        "      <th>Max resolution</th>\n",
        "      <th>Low resolution</th>\n",
        "      <th>Effective pixels</th>\n",
        "      <th>Zoom wide (W)</th>\n",
        "      <th>Zoom tele (T)</th>\n",
        "      <th>Normal focus range</th>\n",
        "      <th>Macro focus range</th>\n",
        "      <th>Storage included</th>\n",
        "      <th>Weight (inc. batteries)</th>\n",
        "      <th>Dimensions</th>\n",
        "      <th>Price</th>\n",
        "      <th>Maker</th>\n",
        "    </tr>\n",
        "  </thead>\n",
        "  <tbody>\n",
        "    <tr>\n",
        "      <th>905</th>\n",
        "      <td>  Sony Mavica FD-91</td>\n",
        "      <td> 1998</td>\n",
        "      <td> 1024.0</td>\n",
        "      <td>  640.0</td>\n",
        "      <td> 0.0</td>\n",
        "      <td> 37.0</td>\n",
        "      <td> 518.0</td>\n",
        "      <td> 80.0</td>\n",
        "      <td> 3.0</td>\n",
        "      <td> 1.0</td>\n",
        "      <td> 950.0</td>\n",
        "      <td> 140.0</td>\n",
        "      <td> 1399.0</td>\n",
        "      <td> Sony</td>\n",
        "    </tr>\n",
        "    <tr>\n",
        "      <th>906</th>\n",
        "      <td> Sony Mavica CD1000</td>\n",
        "      <td> 2000</td>\n",
        "      <td> 1600.0</td>\n",
        "      <td> 1600.0</td>\n",
        "      <td> 1.0</td>\n",
        "      <td> 37.0</td>\n",
        "      <td> 370.0</td>\n",
        "      <td> 80.0</td>\n",
        "      <td> 3.0</td>\n",
        "      <td> 8.0</td>\n",
        "      <td> 980.0</td>\n",
        "      <td> 125.0</td>\n",
        "      <td> 1399.0</td>\n",
        "      <td> Sony</td>\n",
        "    </tr>\n",
        "    <tr>\n",
        "      <th>907</th>\n",
        "      <td>  Sony Mavica CD200</td>\n",
        "      <td> 2001</td>\n",
        "      <td> 1600.0</td>\n",
        "      <td> 1024.0</td>\n",
        "      <td> 1.0</td>\n",
        "      <td> 39.0</td>\n",
        "      <td> 117.0</td>\n",
        "      <td> 50.0</td>\n",
        "      <td> 3.0</td>\n",
        "      <td> 8.0</td>\n",
        "      <td> 620.0</td>\n",
        "      <td> 144.0</td>\n",
        "      <td> 1399.0</td>\n",
        "      <td> Sony</td>\n",
        "    </tr>\n",
        "    <tr>\n",
        "      <th>908</th>\n",
        "      <td>  Sony Mavica CD250</td>\n",
        "      <td> 2002</td>\n",
        "      <td> 1600.0</td>\n",
        "      <td> 1280.0</td>\n",
        "      <td> 1.0</td>\n",
        "      <td> 41.0</td>\n",
        "      <td> 123.0</td>\n",
        "      <td> 50.0</td>\n",
        "      <td> 3.0</td>\n",
        "      <td> 6.0</td>\n",
        "      <td> 610.0</td>\n",
        "      <td> 138.0</td>\n",
        "      <td> 1399.0</td>\n",
        "      <td> Sony</td>\n",
        "    </tr>\n",
        "    <tr>\n",
        "      <th>909</th>\n",
        "      <td>  Sony Mavica CD300</td>\n",
        "      <td> 2001</td>\n",
        "      <td> 2048.0</td>\n",
        "      <td> 1600.0</td>\n",
        "      <td> 3.0</td>\n",
        "      <td> 34.0</td>\n",
        "      <td> 102.0</td>\n",
        "      <td> 50.0</td>\n",
        "      <td> 4.0</td>\n",
        "      <td> 8.0</td>\n",
        "      <td> 620.0</td>\n",
        "      <td> 144.0</td>\n",
        "      <td> 1399.0</td>\n",
        "      <td> Sony</td>\n",
        "    </tr>\n",
        "  </tbody>\n",
        "</table>\n",
        "</div>"
       ],
       "metadata": {},
       "output_type": "pyout",
       "prompt_number": 60,
       "text": [
        "                  Model Release date Max resolution Low resolution  \\\n",
        "905   Sony Mavica FD-91         1998         1024.0          640.0   \n",
        "906  Sony Mavica CD1000         2000         1600.0         1600.0   \n",
        "907   Sony Mavica CD200         2001         1600.0         1024.0   \n",
        "908   Sony Mavica CD250         2002         1600.0         1280.0   \n",
        "909   Sony Mavica CD300         2001         2048.0         1600.0   \n",
        "\n",
        "    Effective pixels Zoom wide (W) Zoom tele (T) Normal focus range  \\\n",
        "905              0.0          37.0         518.0               80.0   \n",
        "906              1.0          37.0         370.0               80.0   \n",
        "907              1.0          39.0         117.0               50.0   \n",
        "908              1.0          41.0         123.0               50.0   \n",
        "909              3.0          34.0         102.0               50.0   \n",
        "\n",
        "    Macro focus range Storage included Weight (inc. batteries) Dimensions  \\\n",
        "905               3.0              1.0                   950.0      140.0   \n",
        "906               3.0              8.0                   980.0      125.0   \n",
        "907               3.0              8.0                   620.0      144.0   \n",
        "908               3.0              6.0                   610.0      138.0   \n",
        "909               4.0              8.0                   620.0      144.0   \n",
        "\n",
        "      Price Maker  \n",
        "905  1399.0  Sony  \n",
        "906  1399.0  Sony  \n",
        "907  1399.0  Sony  \n",
        "908  1399.0  Sony  \n",
        "909  1399.0  Sony  "
       ]
      }
     ],
     "prompt_number": 60
    },
    {
     "cell_type": "heading",
     "level": 4,
     "metadata": {},
     "source": [
      "Filter with multiple conditions (Multiple makers)"
     ]
    },
    {
     "cell_type": "code",
     "collapsed": false,
     "input": [
      "df[(df['Maker'] == 'Sony') | (df['Maker'] == \"Canon\")].head()"
     ],
     "language": "python",
     "metadata": {},
     "outputs": [
      {
       "html": [
        "<div style=\"max-height:1000px;max-width:1500px;overflow:auto;\">\n",
        "<table border=\"1\" class=\"dataframe\">\n",
        "  <thead>\n",
        "    <tr style=\"text-align: right;\">\n",
        "      <th></th>\n",
        "      <th>Model</th>\n",
        "      <th>Release date</th>\n",
        "      <th>Max resolution</th>\n",
        "      <th>Low resolution</th>\n",
        "      <th>Effective pixels</th>\n",
        "      <th>Zoom wide (W)</th>\n",
        "      <th>Zoom tele (T)</th>\n",
        "      <th>Normal focus range</th>\n",
        "      <th>Macro focus range</th>\n",
        "      <th>Storage included</th>\n",
        "      <th>Weight (inc. batteries)</th>\n",
        "      <th>Dimensions</th>\n",
        "      <th>Price</th>\n",
        "      <th>Maker</th>\n",
        "    </tr>\n",
        "  </thead>\n",
        "  <tbody>\n",
        "    <tr>\n",
        "      <th>8 </th>\n",
        "      <td>  Canon PowerShot 350</td>\n",
        "      <td> 1997</td>\n",
        "      <td>  640.0</td>\n",
        "      <td>    0.0</td>\n",
        "      <td> 0.0</td>\n",
        "      <td> 42.0</td>\n",
        "      <td>  42.0</td>\n",
        "      <td> 70.0</td>\n",
        "      <td>  3.0</td>\n",
        "      <td> 2.0</td>\n",
        "      <td> 320.0</td>\n",
        "      <td>  93.0</td>\n",
        "      <td> 149.0</td>\n",
        "      <td> Canon</td>\n",
        "    </tr>\n",
        "    <tr>\n",
        "      <th>9 </th>\n",
        "      <td>  Canon PowerShot 600</td>\n",
        "      <td> 1996</td>\n",
        "      <td>  832.0</td>\n",
        "      <td>  640.0</td>\n",
        "      <td> 0.0</td>\n",
        "      <td> 50.0</td>\n",
        "      <td>  50.0</td>\n",
        "      <td> 40.0</td>\n",
        "      <td> 10.0</td>\n",
        "      <td> 1.0</td>\n",
        "      <td> 460.0</td>\n",
        "      <td> 160.0</td>\n",
        "      <td> 139.0</td>\n",
        "      <td> Canon</td>\n",
        "    </tr>\n",
        "    <tr>\n",
        "      <th>10</th>\n",
        "      <td>  Canon PowerShot A10</td>\n",
        "      <td> 2001</td>\n",
        "      <td> 1280.0</td>\n",
        "      <td> 1024.0</td>\n",
        "      <td> 1.0</td>\n",
        "      <td> 35.0</td>\n",
        "      <td> 105.0</td>\n",
        "      <td> 76.0</td>\n",
        "      <td> 16.0</td>\n",
        "      <td> 8.0</td>\n",
        "      <td> 375.0</td>\n",
        "      <td> 110.0</td>\n",
        "      <td> 139.0</td>\n",
        "      <td> Canon</td>\n",
        "    </tr>\n",
        "    <tr>\n",
        "      <th>11</th>\n",
        "      <td> Canon PowerShot A100</td>\n",
        "      <td> 2002</td>\n",
        "      <td> 1280.0</td>\n",
        "      <td> 1024.0</td>\n",
        "      <td> 1.0</td>\n",
        "      <td> 39.0</td>\n",
        "      <td>  39.0</td>\n",
        "      <td> 20.0</td>\n",
        "      <td>  5.0</td>\n",
        "      <td> 8.0</td>\n",
        "      <td> 225.0</td>\n",
        "      <td> 110.0</td>\n",
        "      <td> 139.0</td>\n",
        "      <td> Canon</td>\n",
        "    </tr>\n",
        "    <tr>\n",
        "      <th>12</th>\n",
        "      <td>  Canon PowerShot A20</td>\n",
        "      <td> 2001</td>\n",
        "      <td> 1600.0</td>\n",
        "      <td> 1024.0</td>\n",
        "      <td> 1.0</td>\n",
        "      <td> 35.0</td>\n",
        "      <td> 105.0</td>\n",
        "      <td> 76.0</td>\n",
        "      <td> 16.0</td>\n",
        "      <td> 8.0</td>\n",
        "      <td> 375.0</td>\n",
        "      <td> 110.0</td>\n",
        "      <td> 139.0</td>\n",
        "      <td> Canon</td>\n",
        "    </tr>\n",
        "  </tbody>\n",
        "</table>\n",
        "</div>"
       ],
       "metadata": {},
       "output_type": "pyout",
       "prompt_number": 72,
       "text": [
        "                   Model Release date Max resolution Low resolution  \\\n",
        "8    Canon PowerShot 350         1997          640.0            0.0   \n",
        "9    Canon PowerShot 600         1996          832.0          640.0   \n",
        "10   Canon PowerShot A10         2001         1280.0         1024.0   \n",
        "11  Canon PowerShot A100         2002         1280.0         1024.0   \n",
        "12   Canon PowerShot A20         2001         1600.0         1024.0   \n",
        "\n",
        "   Effective pixels Zoom wide (W) Zoom tele (T) Normal focus range  \\\n",
        "8               0.0          42.0          42.0               70.0   \n",
        "9               0.0          50.0          50.0               40.0   \n",
        "10              1.0          35.0         105.0               76.0   \n",
        "11              1.0          39.0          39.0               20.0   \n",
        "12              1.0          35.0         105.0               76.0   \n",
        "\n",
        "   Macro focus range Storage included Weight (inc. batteries) Dimensions  \\\n",
        "8                3.0              2.0                   320.0       93.0   \n",
        "9               10.0              1.0                   460.0      160.0   \n",
        "10              16.0              8.0                   375.0      110.0   \n",
        "11               5.0              8.0                   225.0      110.0   \n",
        "12              16.0              8.0                   375.0      110.0   \n",
        "\n",
        "    Price  Maker  \n",
        "8   149.0  Canon  \n",
        "9   139.0  Canon  \n",
        "10  139.0  Canon  \n",
        "11  139.0  Canon  \n",
        "12  139.0  Canon  "
       ]
      }
     ],
     "prompt_number": 72
    },
    {
     "cell_type": "code",
     "collapsed": false,
     "input": [],
     "language": "python",
     "metadata": {},
     "outputs": []
    }
   ],
   "metadata": {}
  }
 ]
}